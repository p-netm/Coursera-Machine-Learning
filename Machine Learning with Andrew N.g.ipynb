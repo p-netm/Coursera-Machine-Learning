{
 "cells": [
  {
   "cell_type": "markdown",
   "metadata": {},
   "source": [
    "# Machine Learning with Andrew N.G. \n",
    "\n",
    "### A few examples:\n",
    "\n",
    "- Programs that we cannot write by hand: Handriting recognition, NLP, ComputerVision\n",
    "- self Customizing software i.e individual user oriented customization\n",
    "\n",
    "__definition__: What is Machine Learning\n",
    "\n",
    "A computer is said to learn from experience E with respect to some task T ans some performance measure P, if its performance on T, as measured by P, improves with experience E\n",
    "\n",
    "an example of this would be the first checkers program written by Arthur Samuel\n",
    "\n",
    "Learned to become better at chess by simulating thousands of games, and learning what board positions lead to the winning outcome.\n",
    "\n",
    "__Question__: Suppose your email program watches which emails you do or do not mark as spam, and based on that learns how to better filter spam. What is the task T in this setting?\n",
    "\n",
    "- [ ] Classify emails as spam or not spam.\n",
    "\n",
    "- [ ] Watching you label emails as spam or not spam.\n",
    "\n",
    "- [ ] The number (or fraction) of emails correctly classified as spam/not spam.\n",
    "\n",
    "- [ ] None of the above, this is not a machine learning algorithm.\n",
    "\n",
    "__Types of Machine Learning Algorithms:__\n",
    "\n",
    "- supervised learning\n",
    "- unsupervised learning\n",
    "- reinforcement learning\n",
    "- recommender systems"
   ]
  },
  {
   "cell_type": "code",
   "execution_count": null,
   "metadata": {},
   "outputs": [],
   "source": [
    "## Supervised Learning\n",
    "\n",
    "Andrew uses a dataset of prices in relation to the size of land in square feet.\n",
    "\n",
    "this is also called a regression problem (trying to predict a continous variable)\n",
    "\n"
   ]
  }
 ],
 "metadata": {
  "kernelspec": {
   "display_name": "Python 3",
   "language": "python",
   "name": "python3"
  },
  "language_info": {
   "codemirror_mode": {
    "name": "ipython",
    "version": 3
   },
   "file_extension": ".py",
   "mimetype": "text/x-python",
   "name": "python",
   "nbconvert_exporter": "python",
   "pygments_lexer": "ipython3",
   "version": "3.6.8"
  }
 },
 "nbformat": 4,
 "nbformat_minor": 2
}
